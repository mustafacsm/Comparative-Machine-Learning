{
 "cells": [
  {
   "cell_type": "markdown",
   "id": "82b7ad4e-947d-4c55-90dc-051d88507338",
   "metadata": {},
   "source": [
    "#### Import Libraries"
   ]
  },
  {
   "cell_type": "code",
   "execution_count": 1,
   "id": "d8732b30-82f7-485c-b016-41a2f1f464d5",
   "metadata": {},
   "outputs": [
    {
     "data": {
      "text/plain": [
       "['bank marketing.csv',\n",
       " 'cleaned_bank_marketing.csv',\n",
       " 'cleaned_GB_videos.csv',\n",
       " 'cleaned_housing_price.csv',\n",
       " 'GBvideos.csv',\n",
       " 'housing_price_data.csv']"
      ]
     },
     "execution_count": 1,
     "metadata": {},
     "output_type": "execute_result"
    }
   ],
   "source": [
    "import pandas as pd\n",
    "import seaborn as sns\n",
    "import matplotlib.pyplot as plt\n",
    "from sklearn.model_selection import train_test_split\n",
    "from sklearn.tree import DecisionTreeClassifier\n",
    "from sklearn.ensemble import RandomForestClassifier\n",
    "from sklearn.metrics import accuracy_score, confusion_matrix, classification_report, r2_score, mean_squared_error, mean_absolute_error, f1_score\n",
    "from sklearn.tree import DecisionTreeRegressor\n",
    "from sklearn.ensemble import RandomForestRegressor\n",
    "import os\n",
    "os.listdir(\"data\")"
   ]
  },
  {
   "cell_type": "markdown",
   "id": "7469c57e-1e64-4ac3-8d77-ff690c9cd1a0",
   "metadata": {},
   "source": [
    "#### Import Data"
   ]
  },
  {
   "cell_type": "markdown",
   "id": "9976385d-c806-468f-a2c2-8ebb16891eed",
   "metadata": {},
   "source": [
    "#### Banking Data"
   ]
  },
  {
   "cell_type": "code",
   "execution_count": 2,
   "id": "22ee030e-fc0c-4772-8042-c83b695a0475",
   "metadata": {},
   "outputs": [
    {
     "data": {
      "text/html": [
       "<div>\n",
       "<style scoped>\n",
       "    .dataframe tbody tr th:only-of-type {\n",
       "        vertical-align: middle;\n",
       "    }\n",
       "\n",
       "    .dataframe tbody tr th {\n",
       "        vertical-align: top;\n",
       "    }\n",
       "\n",
       "    .dataframe thead th {\n",
       "        text-align: right;\n",
       "    }\n",
       "</style>\n",
       "<table border=\"1\" class=\"dataframe\">\n",
       "  <thead>\n",
       "    <tr style=\"text-align: right;\">\n",
       "      <th></th>\n",
       "      <th>age</th>\n",
       "      <th>campaign</th>\n",
       "      <th>previous</th>\n",
       "      <th>emp.var.rate</th>\n",
       "      <th>cons.price.idx</th>\n",
       "      <th>cons.conf.idx</th>\n",
       "      <th>euribor3m</th>\n",
       "      <th>nr.employed</th>\n",
       "      <th>job_admin.</th>\n",
       "      <th>job_blue.collar</th>\n",
       "      <th>...</th>\n",
       "      <th>month_sep</th>\n",
       "      <th>day_of_week_fri</th>\n",
       "      <th>day_of_week_mon</th>\n",
       "      <th>day_of_week_thu</th>\n",
       "      <th>day_of_week_tue</th>\n",
       "      <th>day_of_week_wed</th>\n",
       "      <th>poutcome_failure</th>\n",
       "      <th>poutcome_nonexistent</th>\n",
       "      <th>poutcome_success</th>\n",
       "      <th>y</th>\n",
       "    </tr>\n",
       "  </thead>\n",
       "  <tbody>\n",
       "    <tr>\n",
       "      <th>0</th>\n",
       "      <td>56</td>\n",
       "      <td>1</td>\n",
       "      <td>0</td>\n",
       "      <td>1.1</td>\n",
       "      <td>93.994</td>\n",
       "      <td>-36.4</td>\n",
       "      <td>4.857</td>\n",
       "      <td>5191.0</td>\n",
       "      <td>0</td>\n",
       "      <td>0</td>\n",
       "      <td>...</td>\n",
       "      <td>0</td>\n",
       "      <td>0</td>\n",
       "      <td>1</td>\n",
       "      <td>0</td>\n",
       "      <td>0</td>\n",
       "      <td>0</td>\n",
       "      <td>0</td>\n",
       "      <td>1</td>\n",
       "      <td>0</td>\n",
       "      <td>no</td>\n",
       "    </tr>\n",
       "    <tr>\n",
       "      <th>1</th>\n",
       "      <td>57</td>\n",
       "      <td>1</td>\n",
       "      <td>0</td>\n",
       "      <td>1.1</td>\n",
       "      <td>93.994</td>\n",
       "      <td>-36.4</td>\n",
       "      <td>4.857</td>\n",
       "      <td>5191.0</td>\n",
       "      <td>0</td>\n",
       "      <td>0</td>\n",
       "      <td>...</td>\n",
       "      <td>0</td>\n",
       "      <td>0</td>\n",
       "      <td>1</td>\n",
       "      <td>0</td>\n",
       "      <td>0</td>\n",
       "      <td>0</td>\n",
       "      <td>0</td>\n",
       "      <td>1</td>\n",
       "      <td>0</td>\n",
       "      <td>no</td>\n",
       "    </tr>\n",
       "    <tr>\n",
       "      <th>2</th>\n",
       "      <td>37</td>\n",
       "      <td>1</td>\n",
       "      <td>0</td>\n",
       "      <td>1.1</td>\n",
       "      <td>93.994</td>\n",
       "      <td>-36.4</td>\n",
       "      <td>4.857</td>\n",
       "      <td>5191.0</td>\n",
       "      <td>0</td>\n",
       "      <td>0</td>\n",
       "      <td>...</td>\n",
       "      <td>0</td>\n",
       "      <td>0</td>\n",
       "      <td>1</td>\n",
       "      <td>0</td>\n",
       "      <td>0</td>\n",
       "      <td>0</td>\n",
       "      <td>0</td>\n",
       "      <td>1</td>\n",
       "      <td>0</td>\n",
       "      <td>no</td>\n",
       "    </tr>\n",
       "    <tr>\n",
       "      <th>3</th>\n",
       "      <td>40</td>\n",
       "      <td>1</td>\n",
       "      <td>0</td>\n",
       "      <td>1.1</td>\n",
       "      <td>93.994</td>\n",
       "      <td>-36.4</td>\n",
       "      <td>4.857</td>\n",
       "      <td>5191.0</td>\n",
       "      <td>1</td>\n",
       "      <td>0</td>\n",
       "      <td>...</td>\n",
       "      <td>0</td>\n",
       "      <td>0</td>\n",
       "      <td>1</td>\n",
       "      <td>0</td>\n",
       "      <td>0</td>\n",
       "      <td>0</td>\n",
       "      <td>0</td>\n",
       "      <td>1</td>\n",
       "      <td>0</td>\n",
       "      <td>no</td>\n",
       "    </tr>\n",
       "    <tr>\n",
       "      <th>4</th>\n",
       "      <td>56</td>\n",
       "      <td>1</td>\n",
       "      <td>0</td>\n",
       "      <td>1.1</td>\n",
       "      <td>93.994</td>\n",
       "      <td>-36.4</td>\n",
       "      <td>4.857</td>\n",
       "      <td>5191.0</td>\n",
       "      <td>0</td>\n",
       "      <td>0</td>\n",
       "      <td>...</td>\n",
       "      <td>0</td>\n",
       "      <td>0</td>\n",
       "      <td>1</td>\n",
       "      <td>0</td>\n",
       "      <td>0</td>\n",
       "      <td>0</td>\n",
       "      <td>0</td>\n",
       "      <td>1</td>\n",
       "      <td>0</td>\n",
       "      <td>no</td>\n",
       "    </tr>\n",
       "  </tbody>\n",
       "</table>\n",
       "<p>5 rows × 62 columns</p>\n",
       "</div>"
      ],
      "text/plain": [
       "   age  campaign  previous  emp.var.rate  cons.price.idx  cons.conf.idx  \\\n",
       "0   56         1         0           1.1          93.994          -36.4   \n",
       "1   57         1         0           1.1          93.994          -36.4   \n",
       "2   37         1         0           1.1          93.994          -36.4   \n",
       "3   40         1         0           1.1          93.994          -36.4   \n",
       "4   56         1         0           1.1          93.994          -36.4   \n",
       "\n",
       "   euribor3m  nr.employed  job_admin.  job_blue.collar  ...  month_sep  \\\n",
       "0      4.857       5191.0           0                0  ...          0   \n",
       "1      4.857       5191.0           0                0  ...          0   \n",
       "2      4.857       5191.0           0                0  ...          0   \n",
       "3      4.857       5191.0           1                0  ...          0   \n",
       "4      4.857       5191.0           0                0  ...          0   \n",
       "\n",
       "   day_of_week_fri  day_of_week_mon  day_of_week_thu  day_of_week_tue  \\\n",
       "0                0                1                0                0   \n",
       "1                0                1                0                0   \n",
       "2                0                1                0                0   \n",
       "3                0                1                0                0   \n",
       "4                0                1                0                0   \n",
       "\n",
       "   day_of_week_wed  poutcome_failure  poutcome_nonexistent  poutcome_success  \\\n",
       "0                0                 0                     1                 0   \n",
       "1                0                 0                     1                 0   \n",
       "2                0                 0                     1                 0   \n",
       "3                0                 0                     1                 0   \n",
       "4                0                 0                     1                 0   \n",
       "\n",
       "    y  \n",
       "0  no  \n",
       "1  no  \n",
       "2  no  \n",
       "3  no  \n",
       "4  no  \n",
       "\n",
       "[5 rows x 62 columns]"
      ]
     },
     "execution_count": 2,
     "metadata": {},
     "output_type": "execute_result"
    }
   ],
   "source": [
    "bank = pd.read_csv(\"data/cleaned_bank_marketing.csv\", sep = \",\", engine='python')\n",
    "\n",
    "# Change target variable to categorical\n",
    "bank['y'] = bank['y'].astype('category')\n",
    "\n",
    "bank.head()"
   ]
  },
  {
   "cell_type": "code",
   "execution_count": 3,
   "id": "cf4b4e61-1343-426e-afe2-771d6b64385f",
   "metadata": {},
   "outputs": [
    {
     "name": "stdout",
     "output_type": "stream",
     "text": [
      "<class 'pandas.core.frame.DataFrame'>\n",
      "RangeIndex: 3030 entries, 0 to 3029\n",
      "Data columns (total 62 columns):\n",
      " #   Column                         Non-Null Count  Dtype   \n",
      "---  ------                         --------------  -----   \n",
      " 0   age                            3030 non-null   int64   \n",
      " 1   campaign                       3030 non-null   int64   \n",
      " 2   previous                       3030 non-null   int64   \n",
      " 3   emp.var.rate                   3030 non-null   float64 \n",
      " 4   cons.price.idx                 3030 non-null   float64 \n",
      " 5   cons.conf.idx                  3030 non-null   float64 \n",
      " 6   euribor3m                      3030 non-null   float64 \n",
      " 7   nr.employed                    3030 non-null   float64 \n",
      " 8   job_admin.                     3030 non-null   int64   \n",
      " 9   job_blue.collar                3030 non-null   int64   \n",
      " 10  job_entrepreneur               3030 non-null   int64   \n",
      " 11  job_housemaid                  3030 non-null   int64   \n",
      " 12  job_management                 3030 non-null   int64   \n",
      " 13  job_retired                    3030 non-null   int64   \n",
      " 14  job_self.employed              3030 non-null   int64   \n",
      " 15  job_services                   3030 non-null   int64   \n",
      " 16  job_student                    3030 non-null   int64   \n",
      " 17  job_technician                 3030 non-null   int64   \n",
      " 18  job_unemployed                 3030 non-null   int64   \n",
      " 19  job_unknown                    3030 non-null   int64   \n",
      " 20  marital_divorced               3030 non-null   int64   \n",
      " 21  marital_married                3030 non-null   int64   \n",
      " 22  marital_single                 3030 non-null   int64   \n",
      " 23  marital_unknown                3030 non-null   int64   \n",
      " 24  education_basic.4y             3030 non-null   int64   \n",
      " 25  education_basic.6y             3030 non-null   int64   \n",
      " 26  education_basic.9y             3030 non-null   int64   \n",
      " 27  education_high.school          3030 non-null   int64   \n",
      " 28  education_illiterate           3030 non-null   int64   \n",
      " 29  education_professional.course  3030 non-null   int64   \n",
      " 30  education_university.degree    3030 non-null   int64   \n",
      " 31  education_unknown              3030 non-null   int64   \n",
      " 32  default_no                     3030 non-null   int64   \n",
      " 33  default_unknown                3030 non-null   int64   \n",
      " 34  default_yes                    3030 non-null   int64   \n",
      " 35  housing_no                     3030 non-null   int64   \n",
      " 36  housing_unknown                3030 non-null   int64   \n",
      " 37  housing_yes                    3030 non-null   int64   \n",
      " 38  loan_no                        3030 non-null   int64   \n",
      " 39  loan_unknown                   3030 non-null   int64   \n",
      " 40  loan_yes                       3030 non-null   int64   \n",
      " 41  contact_cellular               3030 non-null   int64   \n",
      " 42  contact_telephone              3030 non-null   int64   \n",
      " 43  month_apr                      3030 non-null   int64   \n",
      " 44  month_aug                      3030 non-null   int64   \n",
      " 45  month_dec                      3030 non-null   int64   \n",
      " 46  month_jul                      3030 non-null   int64   \n",
      " 47  month_jun                      3030 non-null   int64   \n",
      " 48  month_mar                      3030 non-null   int64   \n",
      " 49  month_may                      3030 non-null   int64   \n",
      " 50  month_nov                      3030 non-null   int64   \n",
      " 51  month_oct                      3030 non-null   int64   \n",
      " 52  month_sep                      3030 non-null   int64   \n",
      " 53  day_of_week_fri                3030 non-null   int64   \n",
      " 54  day_of_week_mon                3030 non-null   int64   \n",
      " 55  day_of_week_thu                3030 non-null   int64   \n",
      " 56  day_of_week_tue                3030 non-null   int64   \n",
      " 57  day_of_week_wed                3030 non-null   int64   \n",
      " 58  poutcome_failure               3030 non-null   int64   \n",
      " 59  poutcome_nonexistent           3030 non-null   int64   \n",
      " 60  poutcome_success               3030 non-null   int64   \n",
      " 61  y                              3030 non-null   category\n",
      "dtypes: category(1), float64(5), int64(56)\n",
      "memory usage: 1.4 MB\n"
     ]
    }
   ],
   "source": [
    "bank.info()"
   ]
  },
  {
   "cell_type": "markdown",
   "id": "4cf0f4d0-86fc-44e9-9948-efbfa10936d1",
   "metadata": {},
   "source": [
    "> The goal is to predict if a customer subscribes to a term deposit or not (classification)"
   ]
  },
  {
   "cell_type": "markdown",
   "id": "6eacb7ea-76e4-4c12-8f76-fa1984637309",
   "metadata": {},
   "source": [
    "#### Video Data"
   ]
  },
  {
   "cell_type": "code",
   "execution_count": 4,
   "id": "82573c49-fd7c-4b75-8ff5-2fc93e886fa6",
   "metadata": {},
   "outputs": [
    {
     "data": {
      "text/html": [
       "<div>\n",
       "<style scoped>\n",
       "    .dataframe tbody tr th:only-of-type {\n",
       "        vertical-align: middle;\n",
       "    }\n",
       "\n",
       "    .dataframe tbody tr th {\n",
       "        vertical-align: top;\n",
       "    }\n",
       "\n",
       "    .dataframe thead th {\n",
       "        text-align: right;\n",
       "    }\n",
       "</style>\n",
       "<table border=\"1\" class=\"dataframe\">\n",
       "  <thead>\n",
       "    <tr style=\"text-align: right;\">\n",
       "      <th></th>\n",
       "      <th>category_id</th>\n",
       "      <th>views</th>\n",
       "      <th>likes</th>\n",
       "      <th>dislikes</th>\n",
       "      <th>comment_count</th>\n",
       "      <th>ratings_disabled_True</th>\n",
       "      <th>video_error_or_removed_False</th>\n",
       "      <th>video_error_or_removed_True</th>\n",
       "    </tr>\n",
       "  </thead>\n",
       "  <tbody>\n",
       "    <tr>\n",
       "      <th>0</th>\n",
       "      <td>26</td>\n",
       "      <td>0.069072</td>\n",
       "      <td>-0.225219</td>\n",
       "      <td>0.051743</td>\n",
       "      <td>-0.071034</td>\n",
       "      <td>0</td>\n",
       "      <td>1</td>\n",
       "      <td>0</td>\n",
       "    </tr>\n",
       "    <tr>\n",
       "      <th>1</th>\n",
       "      <td>24</td>\n",
       "      <td>-0.255499</td>\n",
       "      <td>-0.311320</td>\n",
       "      <td>-0.104059</td>\n",
       "      <td>-0.203619</td>\n",
       "      <td>0</td>\n",
       "      <td>1</td>\n",
       "      <td>0</td>\n",
       "    </tr>\n",
       "    <tr>\n",
       "      <th>2</th>\n",
       "      <td>10</td>\n",
       "      <td>0.591575</td>\n",
       "      <td>1.866534</td>\n",
       "      <td>0.701614</td>\n",
       "      <td>2.224907</td>\n",
       "      <td>0</td>\n",
       "      <td>1</td>\n",
       "      <td>0</td>\n",
       "    </tr>\n",
       "    <tr>\n",
       "      <th>3</th>\n",
       "      <td>17</td>\n",
       "      <td>-0.309453</td>\n",
       "      <td>-0.383837</td>\n",
       "      <td>-0.148764</td>\n",
       "      <td>-0.257269</td>\n",
       "      <td>0</td>\n",
       "      <td>1</td>\n",
       "      <td>0</td>\n",
       "    </tr>\n",
       "    <tr>\n",
       "      <th>4</th>\n",
       "      <td>25</td>\n",
       "      <td>-0.310401</td>\n",
       "      <td>-0.384303</td>\n",
       "      <td>-0.148960</td>\n",
       "      <td>-0.257407</td>\n",
       "      <td>0</td>\n",
       "      <td>1</td>\n",
       "      <td>0</td>\n",
       "    </tr>\n",
       "  </tbody>\n",
       "</table>\n",
       "</div>"
      ],
      "text/plain": [
       "   category_id     views     likes  dislikes  comment_count  \\\n",
       "0           26  0.069072 -0.225219  0.051743      -0.071034   \n",
       "1           24 -0.255499 -0.311320 -0.104059      -0.203619   \n",
       "2           10  0.591575  1.866534  0.701614       2.224907   \n",
       "3           17 -0.309453 -0.383837 -0.148764      -0.257269   \n",
       "4           25 -0.310401 -0.384303 -0.148960      -0.257407   \n",
       "\n",
       "   ratings_disabled_True  video_error_or_removed_False  \\\n",
       "0                      0                             1   \n",
       "1                      0                             1   \n",
       "2                      0                             1   \n",
       "3                      0                             1   \n",
       "4                      0                             1   \n",
       "\n",
       "   video_error_or_removed_True  \n",
       "0                            0  \n",
       "1                            0  \n",
       "2                            0  \n",
       "3                            0  \n",
       "4                            0  "
      ]
     },
     "execution_count": 4,
     "metadata": {},
     "output_type": "execute_result"
    }
   ],
   "source": [
    "### GB Videos\n",
    "gb_vid = pd.read_csv(\"data/cleaned_GB_videos.csv\")\n",
    "#overview\n",
    "gb_vid.head()"
   ]
  },
  {
   "cell_type": "code",
   "execution_count": 5,
   "id": "c540ec3f-7533-4865-b827-4d07624e91f3",
   "metadata": {},
   "outputs": [
    {
     "data": {
      "text/plain": [
       "Index(['category_id', 'views', 'likes', 'dislikes', 'comment_count',\n",
       "       'ratings_disabled_True', 'video_error_or_removed_False',\n",
       "       'video_error_or_removed_True'],\n",
       "      dtype='object')"
      ]
     },
     "execution_count": 5,
     "metadata": {},
     "output_type": "execute_result"
    }
   ],
   "source": [
    "gb_vid.columns"
   ]
  },
  {
   "cell_type": "code",
   "execution_count": 6,
   "id": "52683293-af23-4f40-bffd-c43402c57c83",
   "metadata": {},
   "outputs": [
    {
     "data": {
      "image/png": "[encoded data removed]",
      "text/plain": [
       "<Figure size 1000x600 with 1 Axes>"
      ]
     },
     "metadata": {},
     "output_type": "display_data"
    }
   ],
   "source": [
    "category_counts = pd.DataFrame(gb_vid[\"category_id\"].value_counts(sort=True)).reset_index()\n",
    "plt.figure(figsize = (10, 6))\n",
    "# Barplot\n",
    "sns.barplot(\n",
    "    y=category_counts[\"category_id\"].to_numpy(),\n",
    "    x=category_counts[\"count\"].to_numpy(),\n",
    "    color=\"#306e81\",\n",
    ")\n",
    "plt.title(\"Category Counts in Trending Data\")\n",
    "plt.xlabel(\"Counts\")\n",
    "plt.grid()\n",
    "plt.show()"
   ]
  },
  {
   "cell_type": "markdown",
   "id": "b4d909cb-dbaa-48a5-a9ec-7c2d929c0327",
   "metadata": {},
   "source": [
    "> The goal is to predict the number of likes a video will get"
   ]
  },
  {
   "cell_type": "code",
   "execution_count": 7,
   "id": "182e554a-ed01-418d-9918-05f5f0ffbffd",
   "metadata": {},
   "outputs": [
    {
     "data": {
      "text/plain": [
       "category_id                     0\n",
       "views                           0\n",
       "likes                           0\n",
       "dislikes                        0\n",
       "comment_count                   0\n",
       "ratings_disabled_True           0\n",
       "video_error_or_removed_False    0\n",
       "video_error_or_removed_True     0\n",
       "dtype: int64"
      ]
     },
     "execution_count": 7,
     "metadata": {},
     "output_type": "execute_result"
    }
   ],
   "source": [
    "##count missing\n",
    "gb_vid.isna().sum()"
   ]
  },
  {
   "cell_type": "markdown",
   "id": "3586d227-5dc9-4ffb-b8df-6214ff6301e0",
   "metadata": {},
   "source": [
    "#### Housing Data"
   ]
  },
  {
   "cell_type": "code",
   "execution_count": 8,
   "id": "124e5a88-b355-4d1e-a239-c85d3437d37d",
   "metadata": {},
   "outputs": [],
   "source": [
    "house = pd.read_csv(\"data/cleaned_housing_price.csv\")"
   ]
  },
  {
   "cell_type": "code",
   "execution_count": 9,
   "id": "01e48336-ccad-4eba-9896-8dd5ed636bc6",
   "metadata": {},
   "outputs": [
    {
     "data": {
      "text/html": [
       "<div>\n",
       "<style scoped>\n",
       "    .dataframe tbody tr th:only-of-type {\n",
       "        vertical-align: middle;\n",
       "    }\n",
       "\n",
       "    .dataframe tbody tr th {\n",
       "        vertical-align: top;\n",
       "    }\n",
       "\n",
       "    .dataframe thead th {\n",
       "        text-align: right;\n",
       "    }\n",
       "</style>\n",
       "<table border=\"1\" class=\"dataframe\">\n",
       "  <thead>\n",
       "    <tr style=\"text-align: right;\">\n",
       "      <th></th>\n",
       "      <th>block</th>\n",
       "      <th>lot</th>\n",
       "      <th>residential_units</th>\n",
       "      <th>commercial_units</th>\n",
       "      <th>total_units</th>\n",
       "      <th>land_square_feet</th>\n",
       "      <th>gross_square_feet</th>\n",
       "      <th>year_built</th>\n",
       "      <th>tax_class_at_time_of_sale</th>\n",
       "      <th>sale_price</th>\n",
       "      <th>...</th>\n",
       "      <th>borough_Queens</th>\n",
       "      <th>borough_Staten Island</th>\n",
       "      <th>tax_class_at_present_1</th>\n",
       "      <th>tax_class_at_present_1A</th>\n",
       "      <th>tax_class_at_present_1C</th>\n",
       "      <th>tax_class_at_present_2</th>\n",
       "      <th>tax_class_at_present_2A</th>\n",
       "      <th>tax_class_at_present_2B</th>\n",
       "      <th>tax_class_at_present_2C</th>\n",
       "      <th>tax_class_at_present_4</th>\n",
       "    </tr>\n",
       "  </thead>\n",
       "  <tbody>\n",
       "    <tr>\n",
       "      <th>0</th>\n",
       "      <td>12204</td>\n",
       "      <td>137</td>\n",
       "      <td>1</td>\n",
       "      <td>0</td>\n",
       "      <td>1</td>\n",
       "      <td>-0.478719</td>\n",
       "      <td>-0.128724</td>\n",
       "      <td>1920</td>\n",
       "      <td>1</td>\n",
       "      <td>380000.0</td>\n",
       "      <td>...</td>\n",
       "      <td>1</td>\n",
       "      <td>0</td>\n",
       "      <td>1</td>\n",
       "      <td>0</td>\n",
       "      <td>0</td>\n",
       "      <td>0</td>\n",
       "      <td>0</td>\n",
       "      <td>0</td>\n",
       "      <td>0</td>\n",
       "      <td>0</td>\n",
       "    </tr>\n",
       "    <tr>\n",
       "      <th>1</th>\n",
       "      <td>7470</td>\n",
       "      <td>1405</td>\n",
       "      <td>0</td>\n",
       "      <td>0</td>\n",
       "      <td>0</td>\n",
       "      <td>-1.008535</td>\n",
       "      <td>-0.136345</td>\n",
       "      <td>1980</td>\n",
       "      <td>2</td>\n",
       "      <td>263640.0</td>\n",
       "      <td>...</td>\n",
       "      <td>0</td>\n",
       "      <td>0</td>\n",
       "      <td>0</td>\n",
       "      <td>0</td>\n",
       "      <td>0</td>\n",
       "      <td>1</td>\n",
       "      <td>0</td>\n",
       "      <td>0</td>\n",
       "      <td>0</td>\n",
       "      <td>0</td>\n",
       "    </tr>\n",
       "    <tr>\n",
       "      <th>2</th>\n",
       "      <td>3543</td>\n",
       "      <td>1054</td>\n",
       "      <td>0</td>\n",
       "      <td>0</td>\n",
       "      <td>0</td>\n",
       "      <td>-1.008535</td>\n",
       "      <td>-0.122323</td>\n",
       "      <td>1986</td>\n",
       "      <td>2</td>\n",
       "      <td>330000.0</td>\n",
       "      <td>...</td>\n",
       "      <td>0</td>\n",
       "      <td>1</td>\n",
       "      <td>0</td>\n",
       "      <td>0</td>\n",
       "      <td>0</td>\n",
       "      <td>1</td>\n",
       "      <td>0</td>\n",
       "      <td>0</td>\n",
       "      <td>0</td>\n",
       "      <td>0</td>\n",
       "    </tr>\n",
       "    <tr>\n",
       "      <th>3</th>\n",
       "      <td>903</td>\n",
       "      <td>1017</td>\n",
       "      <td>0</td>\n",
       "      <td>0</td>\n",
       "      <td>0</td>\n",
       "      <td>-1.008535</td>\n",
       "      <td>-0.113280</td>\n",
       "      <td>1920</td>\n",
       "      <td>2</td>\n",
       "      <td>1050000.0</td>\n",
       "      <td>...</td>\n",
       "      <td>0</td>\n",
       "      <td>0</td>\n",
       "      <td>0</td>\n",
       "      <td>0</td>\n",
       "      <td>0</td>\n",
       "      <td>1</td>\n",
       "      <td>0</td>\n",
       "      <td>0</td>\n",
       "      <td>0</td>\n",
       "      <td>0</td>\n",
       "    </tr>\n",
       "    <tr>\n",
       "      <th>4</th>\n",
       "      <td>2750</td>\n",
       "      <td>1204</td>\n",
       "      <td>0</td>\n",
       "      <td>0</td>\n",
       "      <td>0</td>\n",
       "      <td>-1.008535</td>\n",
       "      <td>-0.136751</td>\n",
       "      <td>2018</td>\n",
       "      <td>2</td>\n",
       "      <td>711757.0</td>\n",
       "      <td>...</td>\n",
       "      <td>0</td>\n",
       "      <td>0</td>\n",
       "      <td>0</td>\n",
       "      <td>0</td>\n",
       "      <td>0</td>\n",
       "      <td>0</td>\n",
       "      <td>0</td>\n",
       "      <td>0</td>\n",
       "      <td>1</td>\n",
       "      <td>0</td>\n",
       "    </tr>\n",
       "  </tbody>\n",
       "</table>\n",
       "<p>5 rows × 21 columns</p>\n",
       "</div>"
      ],
      "text/plain": [
       "   block   lot  residential_units  commercial_units  total_units  \\\n",
       "0  12204   137                  1                 0            1   \n",
       "1   7470  1405                  0                 0            0   \n",
       "2   3543  1054                  0                 0            0   \n",
       "3    903  1017                  0                 0            0   \n",
       "4   2750  1204                  0                 0            0   \n",
       "\n",
       "   land_square_feet  gross_square_feet  year_built  tax_class_at_time_of_sale  \\\n",
       "0         -0.478719          -0.128724        1920                          1   \n",
       "1         -1.008535          -0.136345        1980                          2   \n",
       "2         -1.008535          -0.122323        1986                          2   \n",
       "3         -1.008535          -0.113280        1920                          2   \n",
       "4         -1.008535          -0.136751        2018                          2   \n",
       "\n",
       "   sale_price  ...  borough_Queens  borough_Staten Island  \\\n",
       "0    380000.0  ...               1                      0   \n",
       "1    263640.0  ...               0                      0   \n",
       "2    330000.0  ...               0                      1   \n",
       "3   1050000.0  ...               0                      0   \n",
       "4    711757.0  ...               0                      0   \n",
       "\n",
       "   tax_class_at_present_1  tax_class_at_present_1A  tax_class_at_present_1C  \\\n",
       "0                       1                        0                        0   \n",
       "1                       0                        0                        0   \n",
       "2                       0                        0                        0   \n",
       "3                       0                        0                        0   \n",
       "4                       0                        0                        0   \n",
       "\n",
       "   tax_class_at_present_2  tax_class_at_present_2A  tax_class_at_present_2B  \\\n",
       "0                       0                        0                        0   \n",
       "1                       1                        0                        0   \n",
       "2                       1                        0                        0   \n",
       "3                       1                        0                        0   \n",
       "4                       0                        0                        0   \n",
       "\n",
       "   tax_class_at_present_2C  tax_class_at_present_4  \n",
       "0                        0                       0  \n",
       "1                        0                       0  \n",
       "2                        0                       0  \n",
       "3                        0                       0  \n",
       "4                        1                       0  \n",
       "\n",
       "[5 rows x 21 columns]"
      ]
     },
     "execution_count": 9,
     "metadata": {},
     "output_type": "execute_result"
    }
   ],
   "source": [
    "house.head()"
   ]
  },
  {
   "cell_type": "code",
   "execution_count": 10,
   "id": "213182f1-7990-406e-9894-49850df59aa2",
   "metadata": {},
   "outputs": [
    {
     "data": {
      "text/plain": [
       "block                        0\n",
       "lot                          0\n",
       "residential_units            0\n",
       "commercial_units             0\n",
       "total_units                  0\n",
       "land_square_feet             0\n",
       "gross_square_feet            0\n",
       "year_built                   0\n",
       "tax_class_at_time_of_sale    0\n",
       "sale_price                   0\n",
       "borough_Manhattan            0\n",
       "borough_Queens               0\n",
       "borough_Staten Island        0\n",
       "tax_class_at_present_1       0\n",
       "tax_class_at_present_1A      0\n",
       "tax_class_at_present_1C      0\n",
       "tax_class_at_present_2       0\n",
       "tax_class_at_present_2A      0\n",
       "tax_class_at_present_2B      0\n",
       "tax_class_at_present_2C      0\n",
       "tax_class_at_present_4       0\n",
       "dtype: int64"
      ]
     },
     "execution_count": 10,
     "metadata": {},
     "output_type": "execute_result"
    }
   ],
   "source": [
    "#check missing\n",
    "house.isna().sum()"
   ]
  },
  {
   "cell_type": "markdown",
   "id": "b4b865c0-ee78-4dfe-afd9-d33ce7bd1f90",
   "metadata": {},
   "source": [
    "> Goal is to predict the price of a house (regression)"
   ]
  },
  {
   "cell_type": "code",
   "execution_count": 11,
   "id": "6128c7a2-5f70-4e19-86a8-40eb3d7188ef",
   "metadata": {},
   "outputs": [
    {
     "name": "stdout",
     "output_type": "stream",
     "text": [
      "<class 'pandas.core.frame.DataFrame'>\n",
      "RangeIndex: 6736 entries, 0 to 6735\n",
      "Data columns (total 21 columns):\n",
      " #   Column                     Non-Null Count  Dtype  \n",
      "---  ------                     --------------  -----  \n",
      " 0   block                      6736 non-null   int64  \n",
      " 1   lot                        6736 non-null   int64  \n",
      " 2   residential_units          6736 non-null   int64  \n",
      " 3   commercial_units           6736 non-null   int64  \n",
      " 4   total_units                6736 non-null   int64  \n",
      " 5   land_square_feet           6736 non-null   float64\n",
      " 6   gross_square_feet          6736 non-null   float64\n",
      " 7   year_built                 6736 non-null   int64  \n",
      " 8   tax_class_at_time_of_sale  6736 non-null   int64  \n",
      " 9   sale_price                 6736 non-null   float64\n",
      " 10  borough_Manhattan          6736 non-null   int64  \n",
      " 11  borough_Queens             6736 non-null   int64  \n",
      " 12  borough_Staten Island      6736 non-null   int64  \n",
      " 13  tax_class_at_present_1     6736 non-null   int64  \n",
      " 14  tax_class_at_present_1A    6736 non-null   int64  \n",
      " 15  tax_class_at_present_1C    6736 non-null   int64  \n",
      " 16  tax_class_at_present_2     6736 non-null   int64  \n",
      " 17  tax_class_at_present_2A    6736 non-null   int64  \n",
      " 18  tax_class_at_present_2B    6736 non-null   int64  \n",
      " 19  tax_class_at_present_2C    6736 non-null   int64  \n",
      " 20  tax_class_at_present_4     6736 non-null   int64  \n",
      "dtypes: float64(3), int64(18)\n",
      "memory usage: 1.1 MB\n"
     ]
    }
   ],
   "source": [
    "house.info()"
   ]
  },
  {
   "cell_type": "markdown",
   "id": "f75a861a-00b0-4b95-93da-d83630f595d3",
   "metadata": {},
   "source": [
    "#### Banking Data"
   ]
  },
  {
   "cell_type": "code",
   "execution_count": 12,
   "id": "0e01ee80-050c-4ea0-87a3-aae05c154e89",
   "metadata": {},
   "outputs": [],
   "source": [
    "# Split the data into training and testing sets\n",
    "X_train, X_test, y_train, y_test = train_test_split(bank.drop(columns='y'), bank['y'], test_size=0.3, random_state=42)"
   ]
  },
  {
   "cell_type": "markdown",
   "id": "5aa12261-9f27-4e01-a9a2-32eeba698425",
   "metadata": {},
   "source": [
    "##### Decision Tree"
   ]
  },
  {
   "cell_type": "code",
   "execution_count": 13,
   "id": "414a39cb-572a-421a-a4b3-35bebcb4468e",
   "metadata": {},
   "outputs": [
    {
     "data": {
      "text/html": [
       "<style>#sk-container-id-1 {color: black;}#sk-container-id-1 pre{padding: 0;}#sk-container-id-1 div.sk-toggleable {background-color: white;}#sk-container-id-1 label.sk-toggleable__label {cursor: pointer;display: block;width: 100%;margin-bottom: 0;padding: 0.3em;box-sizing: border-box;text-align: center;}#sk-container-id-1 label.sk-toggleable__label-arrow:before {content: \"▸\";float: left;margin-right: 0.25em;color: #696969;}#sk-container-id-1 label.sk-toggleable__label-arrow:hover:before {color: black;}#sk-container-id-1 div.sk-estimator:hover label.sk-toggleable__label-arrow:before {color: black;}#sk-container-id-1 div.sk-toggleable__content {max-height: 0;max-width: 0;overflow: hidden;text-align: left;background-color: #f0f8ff;}#sk-container-id-1 div.sk-toggleable__content pre {margin: 0.2em;color: black;border-radius: 0.25em;background-color: #f0f8ff;}#sk-container-id-1 input.sk-toggleable__control:checked~div.sk-toggleable__content {max-height: 200px;max-width: 100%;overflow: auto;}#sk-container-id-1 input.sk-toggleable__control:checked~label.sk-toggleable__label-arrow:before {content: \"▾\";}#sk-container-id-1 div.sk-estimator input.sk-toggleable__control:checked~label.sk-toggleable__label {background-color: #d4ebff;}#sk-container-id-1 div.sk-label input.sk-toggleable__control:checked~label.sk-toggleable__label {background-color: #d4ebff;}#sk-container-id-1 input.sk-hidden--visually {border: 0;clip: rect(1px 1px 1px 1px);clip: rect(1px, 1px, 1px, 1px);height: 1px;margin: -1px;overflow: hidden;padding: 0;position: absolute;width: 1px;}#sk-container-id-1 div.sk-estimator {font-family: monospace;background-color: #f0f8ff;border: 1px dotted black;border-radius: 0.25em;box-sizing: border-box;margin-bottom: 0.5em;}#sk-container-id-1 div.sk-estimator:hover {background-color: #d4ebff;}#sk-container-id-1 div.sk-parallel-item::after {content: \"\";width: 100%;border-bottom: 1px solid gray;flex-grow: 1;}#sk-container-id-1 div.sk-label:hover label.sk-toggleable__label {background-color: #d4ebff;}#sk-container-id-1 div.sk-serial::before {content: \"\";position: absolute;border-left: 1px solid gray;box-sizing: border-box;top: 0;bottom: 0;left: 50%;z-index: 0;}#sk-container-id-1 div.sk-serial {display: flex;flex-direction: column;align-items: center;background-color: white;padding-right: 0.2em;padding-left: 0.2em;position: relative;}#sk-container-id-1 div.sk-item {position: relative;z-index: 1;}#sk-container-id-1 div.sk-parallel {display: flex;align-items: stretch;justify-content: center;background-color: white;position: relative;}#sk-container-id-1 div.sk-item::before, #sk-container-id-1 div.sk-parallel-item::before {content: \"\";position: absolute;border-left: 1px solid gray;box-sizing: border-box;top: 0;bottom: 0;left: 50%;z-index: -1;}#sk-container-id-1 div.sk-parallel-item {display: flex;flex-direction: column;z-index: 1;position: relative;background-color: white;}#sk-container-id-1 div.sk-parallel-item:first-child::after {align-self: flex-end;width: 50%;}#sk-container-id-1 div.sk-parallel-item:last-child::after {align-self: flex-start;width: 50%;}#sk-container-id-1 div.sk-parallel-item:only-child::after {width: 0;}#sk-container-id-1 div.sk-dashed-wrapped {border: 1px dashed gray;margin: 0 0.4em 0.5em 0.4em;box-sizing: border-box;padding-bottom: 0.4em;background-color: white;}#sk-container-id-1 div.sk-label label {font-family: monospace;font-weight: bold;display: inline-block;line-height: 1.2em;}#sk-container-id-1 div.sk-label-container {text-align: center;}#sk-container-id-1 div.sk-container {/* jupyter's `normalize.less` sets `[hidden] { display: none; }` but bootstrap.min.css set `[hidden] { display: none !important; }` so we also need the `!important` here to be able to override the default hidden behavior on the sphinx rendered scikit-learn.org. See: https://github.com/scikit-learn/scikit-learn/issues/21755 */display: inline-block !important;position: relative;}#sk-container-id-1 div.sk-text-repr-fallback {display: none;}</style><div id=\"sk-container-id-1\" class=\"sk-top-container\"><div class=\"sk-text-repr-fallback\"><pre>DecisionTreeClassifier(random_state=42)</pre><b>In a Jupyter environment, please rerun this cell to show the HTML representation or trust the notebook. <br />On GitHub, the HTML representation is unable to render, please try loading this page with nbviewer.org.</b></div><div class=\"sk-container\" hidden><div class=\"sk-item\"><div class=\"sk-estimator sk-toggleable\"><input class=\"sk-toggleable__control sk-hidden--visually\" id=\"sk-estimator-id-1\" type=\"checkbox\" checked><label for=\"sk-estimator-id-1\" class=\"sk-toggleable__label sk-toggleable__label-arrow\">DecisionTreeClassifier</label><div class=\"sk-toggleable__content\"><pre>DecisionTreeClassifier(random_state=42)</pre></div></div></div></div></div>"
      ],
      "text/plain": [
       "DecisionTreeClassifier(random_state=42)"
      ]
     },
     "execution_count": 13,
     "metadata": {},
     "output_type": "execute_result"
    }
   ],
   "source": [
    "dt = DecisionTreeClassifier(random_state=42)\n",
    "dt.fit(X_train, y_train)\n"
   ]
  },
  {
   "cell_type": "code",
   "execution_count": 14,
   "id": "367c3932-dfa2-4862-9ff0-63ecfc52ec1f",
   "metadata": {},
   "outputs": [
    {
     "name": "stdout",
     "output_type": "stream",
     "text": [
      "              precision    recall  f1-score   support\n",
      "\n",
      "          no       1.00      1.00      1.00       467\n",
      "         yes       1.00      1.00      1.00       442\n",
      "\n",
      "    accuracy                           1.00       909\n",
      "   macro avg       1.00      1.00      1.00       909\n",
      "weighted avg       1.00      1.00      1.00       909\n",
      "\n"
     ]
    }
   ],
   "source": [
    "dt_pred = dt.predict(X_test)\n",
    "print(classification_report(y_test, dt_pred))"
   ]
  },
  {
   "cell_type": "code",
   "execution_count": 15,
   "id": "40468ad4-d44c-47a8-b09f-1aa96219d869",
   "metadata": {},
   "outputs": [
    {
     "data": {
      "text/plain": [
       "1.0"
      ]
     },
     "execution_count": 15,
     "metadata": {},
     "output_type": "execute_result"
    }
   ],
   "source": [
    "f1_score(y_test, dt_pred, average='weighted')"
   ]
  },
  {
   "cell_type": "markdown",
   "id": "883ecc3a-f23f-4749-aebe-1cabf20f0744",
   "metadata": {},
   "source": [
    "##### Random Forest"
   ]
  },
  {
   "cell_type": "code",
   "execution_count": 16,
   "id": "84f1c829-969f-49b4-be24-39122b88d7ba",
   "metadata": {},
   "outputs": [],
   "source": [
    "rf = RandomForestClassifier(random_state=42)\n",
    "rf.fit(X_train, y_train)\n",
    "rf_pred = rf.predict(X_test)"
   ]
  },
  {
   "cell_type": "code",
   "execution_count": 17,
   "id": "5ee3aedd-418b-4a00-9802-a18aa8ba513d",
   "metadata": {},
   "outputs": [
    {
     "name": "stdout",
     "output_type": "stream",
     "text": [
      "              precision    recall  f1-score   support\n",
      "\n",
      "          no       1.00      1.00      1.00       467\n",
      "         yes       1.00      1.00      1.00       442\n",
      "\n",
      "    accuracy                           1.00       909\n",
      "   macro avg       1.00      1.00      1.00       909\n",
      "weighted avg       1.00      1.00      1.00       909\n",
      "\n"
     ]
    }
   ],
   "source": [
    "print(classification_report(y_test, rf_pred))"
   ]
  },
  {
   "cell_type": "code",
   "execution_count": 18,
   "id": "7aa9f1dc-42ae-4c61-a601-6ad41cb7591c",
   "metadata": {},
   "outputs": [
    {
     "data": {
      "text/plain": [
       "1.0"
      ]
     },
     "execution_count": 18,
     "metadata": {},
     "output_type": "execute_result"
    }
   ],
   "source": [
    "f1_score(y_test, rf_pred, average='weighted')"
   ]
  },
  {
   "cell_type": "markdown",
   "id": "1d639102-29cd-44ef-aa4f-edd5591c835e",
   "metadata": {},
   "source": [
    "#### Housing Data (Regression)"
   ]
  },
  {
   "cell_type": "markdown",
   "id": "b6636ed3-e01f-4273-a7d8-0b2f6f430a52",
   "metadata": {},
   "source": [
    "> The objective is to predict the price of a house based on different features"
   ]
  },
  {
   "cell_type": "code",
   "execution_count": 19,
   "id": "d0e980e0-77f7-493f-b6cf-8c46607f96f6",
   "metadata": {},
   "outputs": [],
   "source": [
    "#function to compute all metrics\n",
    "def evaluate_regression(y_true, y_pred):\n",
    "    r_squared = round(r2_score(y_true, y_pred), 4)\n",
    "    rmse = round(mean_squared_error(y_true, y_pred, squared=False), 4)\n",
    "    mse = round(mean_squared_error(y_true, y_pred), 4)\n",
    "    mae = round(mean_absolute_error(y_true, y_pred), 4)\n",
    "    print(\"R-Squared:\", r_squared)\n",
    "    print(\"\\nRMSE\", rmse)\n",
    "    print(\"\\nMSE:\", mse)\n",
    "    print(\"\\nMAE:\", mae)\n",
    "    return r_squared, rmse, mse, mae"
   ]
  },
  {
   "cell_type": "markdown",
   "id": "11249341-e923-4a2f-bba6-cdbaf4ee7ce3",
   "metadata": {},
   "source": [
    "##### Decision Tree"
   ]
  },
  {
   "cell_type": "code",
   "execution_count": 20,
   "id": "5728ab5a-53e8-4729-a893-c7e3b6b8c7fc",
   "metadata": {},
   "outputs": [],
   "source": [
    "# Split the data into training and testing sets\n",
    "X_train, X_test, y_train, y_test = train_test_split(house.drop(columns='sale_price'), house['sale_price'], test_size=0.3, random_state=42)"
   ]
  },
  {
   "cell_type": "code",
   "execution_count": 21,
   "id": "1559ae90-8a02-4313-96db-dce48a601b05",
   "metadata": {},
   "outputs": [
    {
     "name": "stdout",
     "output_type": "stream",
     "text": [
      "R-Squared: 0.2233\n",
      "\n",
      "RMSE 399402.1292\n",
      "\n",
      "MSE: 159522060787.4953\n",
      "\n",
      "MAE: 267704.574\n"
     ]
    },
    {
     "data": {
      "text/plain": [
       "(0.2233, 399402.1292, 159522060787.4953, 267704.574)"
      ]
     },
     "execution_count": 21,
     "metadata": {},
     "output_type": "execute_result"
    }
   ],
   "source": [
    "dt_house = DecisionTreeRegressor(random_state=42)\n",
    "dt_house.fit(X_train, y_train)\n",
    "dt_pred = dt_house.predict(X_test)\n",
    "evaluate_regression(y_test, dt_pred)"
   ]
  },
  {
   "cell_type": "markdown",
   "id": "4fbe05da-64fb-4049-9520-cf31e01b628e",
   "metadata": {},
   "source": [
    "##### Random Forest"
   ]
  },
  {
   "cell_type": "code",
   "execution_count": 22,
   "id": "eb1209e6-e7af-411e-a6f0-680b7e225a5a",
   "metadata": {},
   "outputs": [
    {
     "name": "stdout",
     "output_type": "stream",
     "text": [
      "R-Squared: 0.6112\n",
      "\n",
      "RMSE 282587.1721\n",
      "\n",
      "MSE: 79855509839.4884\n",
      "\n",
      "MAE: 191127.664\n"
     ]
    },
    {
     "data": {
      "text/plain": [
       "(0.6112, 282587.1721, 79855509839.4884, 191127.664)"
      ]
     },
     "execution_count": 22,
     "metadata": {},
     "output_type": "execute_result"
    }
   ],
   "source": [
    "rf_house = RandomForestRegressor(random_state=42)\n",
    "rf_house.fit(X_train, y_train)\n",
    "rf_pred = rf_house.predict(X_test)\n",
    "evaluate_regression(y_test, rf_pred)"
   ]
  },
  {
   "cell_type": "markdown",
   "id": "46fa89db-685c-4ede-9090-08f2d93d82b6",
   "metadata": {},
   "source": [
    "#### Video Data (Regression)"
   ]
  },
  {
   "cell_type": "markdown",
   "id": "b6adb3c2-dac7-463c-ae99-788545538057",
   "metadata": {},
   "source": [
    "> The objective is to predict the number of likes a video will get"
   ]
  },
  {
   "cell_type": "markdown",
   "id": "f9960b2d-3c8b-4a02-9148-f2e70c006f4a",
   "metadata": {},
   "source": [
    "##### Decision Tree"
   ]
  },
  {
   "cell_type": "code",
   "execution_count": 23,
   "id": "3c5edea0-2fbd-41d9-abce-f1745d4a83d3",
   "metadata": {},
   "outputs": [],
   "source": [
    "# Split the data into training and testing sets\n",
    "X_train, X_test, y_train, y_test = train_test_split(gb_vid.drop(columns='likes'), gb_vid['likes'], test_size=0.3, random_state=42)"
   ]
  },
  {
   "cell_type": "code",
   "execution_count": 24,
   "id": "46421c08-be3a-427b-ba41-dc01bec97f03",
   "metadata": {},
   "outputs": [
    {
     "name": "stdout",
     "output_type": "stream",
     "text": [
      "R-Squared: 0.9626\n",
      "\n",
      "RMSE 0.1996\n",
      "\n",
      "MSE: 0.0399\n",
      "\n",
      "MAE: 0.0419\n"
     ]
    },
    {
     "data": {
      "text/plain": [
       "(0.9626, 0.1996, 0.0399, 0.0419)"
      ]
     },
     "execution_count": 24,
     "metadata": {},
     "output_type": "execute_result"
    }
   ],
   "source": [
    "dt_video = DecisionTreeRegressor(random_state=42)\n",
    "dt_video.fit(X_train, y_train)\n",
    "dt_pred = dt_video.predict(X_test)\n",
    "evaluate_regression(y_test, dt_pred)"
   ]
  },
  {
   "cell_type": "markdown",
   "id": "1f8a0322-6327-41fb-859c-4194b162b8bd",
   "metadata": {},
   "source": [
    "##### Random Forest"
   ]
  },
  {
   "cell_type": "code",
   "execution_count": 25,
   "id": "eee5b12a-6bbe-457c-8881-64a9b3e65425",
   "metadata": {},
   "outputs": [
    {
     "name": "stdout",
     "output_type": "stream",
     "text": [
      "R-Squared: 0.9756\n",
      "\n",
      "RMSE 0.1613\n",
      "\n",
      "MSE: 0.026\n",
      "\n",
      "MAE: 0.0397\n"
     ]
    },
    {
     "data": {
      "text/plain": [
       "(0.9756, 0.1613, 0.026, 0.0397)"
      ]
     },
     "execution_count": 25,
     "metadata": {},
     "output_type": "execute_result"
    }
   ],
   "source": [
    "rf_video = RandomForestRegressor(random_state=42)\n",
    "rf_video.fit(X_train, y_train)\n",
    "rf_pred = rf_video.predict(X_test)\n",
    "evaluate_regression(y_test, rf_pred)"
   ]
  }
 ],
 "metadata": {
  "kernelspec": {
   "display_name": "Python 3",
   "language": "python",
   "name": "python3"
  },
  "language_info": {
   "codemirror_mode": {
    "name": "ipython",
    "version": 3
   },
   "file_extension": ".py",
   "mimetype": "text/x-python",
   "name": "python",
   "nbconvert_exporter": "python",
   "pygments_lexer": "ipython3",
   "version": "3.10.10"
  }
 },
 "nbformat": 4,
 "nbformat_minor": 5
}
